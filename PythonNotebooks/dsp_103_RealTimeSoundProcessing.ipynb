{
 "cells": [
  {
   "cell_type": "markdown",
   "metadata": {},
   "source": [
    "<div style=\"display: flex; align-items: center;\">\n",
    "    <a href=\"https://colab.research.google.com/github/aldebaro/dsp-telecom-book-code/blob/master/PythonNotebooks/dsp_103_RealTimeSoundProcessing.ipynb\" target=\"_parent\">\n",
    "        <img src=\"https://colab.research.google.com/assets/colab-badge.svg\" alt=\"Open In Colab\" style=\"height: 25px; margin-right: 10px;\"/>\n",
    "    </a>\n",
    "    <a href='https://ai6g.org/books/dsp/Applications.html#textcolor803' target=\"_blank\">\n",
    "        <img alt='BookStack' src='https://img.shields.io/badge/Open_in _DSP_Book-100000?style=flat&logo=BookStack&logoColor=white&labelColor=696662&color=2095C0' style=\"height: 25px;\"/>\n",
    "    </a>\n",
    "</div>\n",
    "\n",
    "WARNING: Please note that this notebook may not function optimally on Google Colab due to restricted access to audio input and output devices for security and privacy reasons. It is recommended to run it locally for the best performance.\n",
    "\n",
    "Uncomment and run the commands below if you are using Colab to install the dependencies."
   ]
  },
  {
   "cell_type": "code",
   "execution_count": null,
   "metadata": {},
   "outputs": [],
   "source": [
    "# !sudo apt-get install -y portaudio19-dev \n"
   ]
  },
  {
   "cell_type": "code",
   "execution_count": null,
   "metadata": {},
   "outputs": [],
   "source": [
    "# !pip install IPython scipy pyaudio\n"
   ]
  },
  {
   "cell_type": "markdown",
   "metadata": {},
   "source": [
    "# Application 1.3: Real time sound processing\n",
    "\n",
    "The Python libraries PyAudio, NumPy, SciPy, and Matplotlib were used to interact with the soundcard and perform real-time audio recording. The code below provides simple examples demonstrating how to record audio in real-time and perform frequency domain analysis or digital filtering.\n",
    "\n",
    "Note: The code may lose samples depending on the computer's processing speed. "
   ]
  },
  {
   "cell_type": "markdown",
   "metadata": {},
   "source": [
    "### **1.3.1. Spectrum Analyzer**\n",
    "\n",
    "This code showcases a real-time audio spectrum analyzer and uses the digital signal processing (DSP) principles below:\n",
    "\n",
    "- **Sampling:** The audio signal is sampled at a defined rate (Fs).\n",
    "\n",
    "- **Fast Fourier Transform (FFT):** FFT is applied to the signal to decompose its frequency components.\n",
    "\n",
    "- **Normalization:** The signal is normalized to the range [-1, 1].\n",
    "\n",
    "- **Resulting FFT:** The magnitude of frequency components is computed.\n",
    "\n",
    "- **Frequency Plot:** Frequencies and magnitudes are visualized in a graph."
   ]
  },
  {
   "cell_type": "code",
   "execution_count": 4,
   "metadata": {},
   "outputs": [
    {
     "name": "stdout",
     "output_type": "stream",
     "text": [
      "Stopping Spectrum Analysis...\n"
     ]
    },
    {
     "data": {
      "image/png": "[encoded data removed]",
      "text/plain": [
       "<Figure size 640x480 with 1 Axes>"
      ]
     },
     "metadata": {},
     "output_type": "display_data"
    }
   ],
   "source": [
    "import numpy as np\n",
    "import pyaudio\n",
    "from scipy import signal, fftpack\n",
    "import matplotlib.pyplot as plt\n",
    "from IPython import display\n",
    "import time as t\n",
    "\n",
    "Fs = 8000  # Sampling rate (Hz)\n",
    "\n",
    "p = pyaudio.PyAudio()\n",
    "microphone = p.open(format=pyaudio.paInt16, channels=1, rate=Fs, input=True)\n",
    "microphone.start_stream()\n",
    "\n",
    "# Configure the spectrum analyzer\n",
    "specAnalyzer = plt.figure()\n",
    "ax = specAnalyzer.add_subplot(1, 1, 1)\n",
    "ax.set_xlabel(\"Frequency (Hz)\")\n",
    "ax.set_ylabel(\"Magnitude\")\n",
    "ax.set_title(\"Audio Spectrum\")\n",
    "\n",
    "print(\"Spectrum Analysis - Infinite loop, stop with CTRL + C ...\")\n",
    "try:\n",
    "    while True:\n",
    "        audio = microphone.read(Fs)  # Record audio\n",
    "\n",
    "        # Perform spectrum analysis\n",
    "        audio = np.frombuffer(audio, dtype=np.int16) / 32768.0  # Normalize the audio\n",
    "        freqs = fftpack.fftfreq(len(audio), 1 / Fs)\n",
    "        fft_result = fftpack.fft(audio)\n",
    "        magnitude = np.abs(fft_result)\n",
    "\n",
    "        ax.clear()\n",
    "        ax.plot(freqs, magnitude)\n",
    "        ax.set_xlabel(\"Frequency (Hz)\")  # Add this line to set the X-axis label\n",
    "        ax.set_ylabel(\"Magnitude\")     # Add this line to set the Y-axis label\n",
    "        display.display(plt.gcf())\n",
    "        t.sleep(0.01)\n",
    "        plt.cla()\n",
    "        display.clear_output(wait=True)\n",
    "\n",
    "except KeyboardInterrupt:\n",
    "    print(\"Stopping Spectrum Analysis...\")\n",
    "finally:\n",
    "    microphone.stop_stream()\n",
    "    microphone.close()\n",
    "    p.terminate()\n"
   ]
  },
  {
   "cell_type": "markdown",
   "metadata": {},
   "source": [
    "### **1.3.2. Digital Audio Filtering**\n",
    "\n",
    "This code demonstrates real-time digital audio filtering and uses the digital signal processing (DSP) principles below:\n",
    "\n",
    "- **Sampling:** The audio signal is sampled at a defined rate (Fs).\n",
    "\n",
    "- **Butterworth Filter:** A 4th-order Butterworth filter is applied for digital filtering.\n",
    "\n",
    "- **Filter Memory:** A filter memory is used to maintain the filter state.\n",
    "\n",
    "- **Output Generation:** The filtered audio is generated and sent to the speaker."
   ]
  },
  {
   "cell_type": "code",
   "execution_count": 22,
   "metadata": {},
   "outputs": [
    {
     "name": "stdout",
     "output_type": "stream",
     "text": [
      "Digital Filtering - Infinite loop, stop with CTRL + C ...\n"
     ]
    },
    {
     "name": "stderr",
     "output_type": "stream",
     "text": [
      "ALSA lib pcm.c:8568:(snd_pcm_recover) underrun occurred\n",
      "ALSA lib pcm.c:8568:(snd_pcm_recover) underrun occurred\n",
      "ALSA lib pcm.c:8568:(snd_pcm_recover) underrun occurred\n",
      "ALSA lib pcm.c:8568:(snd_pcm_recover) underrun occurred\n",
      "ALSA lib pcm.c:8568:(snd_pcm_recover) underrun occurred\n",
      "ALSA lib pcm.c:8568:(snd_pcm_recover) underrun occurred\n"
     ]
    },
    {
     "name": "stdout",
     "output_type": "stream",
     "text": [
      "Stopping Digital Filtering...\n"
     ]
    }
   ],
   "source": [
    "import numpy as np\n",
    "import pyaudiohttps://chat.openai.com/\n",
    "from scipy import signal\n",
    "\n",
    "Fs = 8000  # Sampling rate (Hz)\n",
    "\n",
    "p = pyaudio.PyAudio()\n",
    "microphone = p.open(format=pyaudio.paInt16, channels=1, rate=Fs, input=True)\n",
    "microphone.start_stream()\n",
    "\n",
    "# Configure the digital filter\n",
    "B, A = signal.butter(4, 0.05)  # 4th-order Butterworth filter\n",
    "filterMemory = np.zeros(max(len(B), len(A)) - 1)\n",
    "speaker = p.open(format=pyaudio.paInt16, channels=1, rate=Fs, output=True)\n",
    "speaker.start_stream()\n",
    "\n",
    "print(\"Digital Filtering - Infinite loop, stop with CTRL + C ...\")\n",
    "try:\n",
    "    while True:\n",
    "        audio = microphone.read(Fs)  # Record audio\n",
    "\n",
    "        # Perform digital filtering\n",
    "        audio = np.frombuffer(audio, dtype=np.int16) / 32768.0  # Normalize the audio\n",
    "        if not len(filterMemory) == 0:\n",
    "            filterMemory = np.zeros(max(len(B), len(A)) - 1)\n",
    "        output, filterMemory = signal.lfilter(B, A, audio, zi=filterMemory)\n",
    "        speaker.write(\n",
    "            (output * 32768).astype(np.int16)\n",
    "        )  # Send the filtered audio to the speaker\n",
    "\n",
    "except KeyboardInterrupt:\n",
    "    print(\"Stopping Digital Filtering...\")\n",
    "finally:\n",
    "    microphone.stop_stream()\n",
    "    microphone.close()\n",
    "    speaker.stop_stream()\n",
    "    speaker.close()\n",
    "    p.terminate()\n"
   ]
  }
 ],
 "metadata": {
  "kernelspec": {
   "display_name": "Python 3",
   "language": "python",
   "name": "python3"
  },
  "language_info": {
   "codemirror_mode": {
    "name": "ipython",
    "version": 3
   },
   "file_extension": ".py",
   "mimetype": "text/x-python",
   "name": "python",
   "nbconvert_exporter": "python",
   "pygments_lexer": "ipython3",
   "version": "3.10.12"
  }
 },
 "nbformat": 4,
 "nbformat_minor": 2
}
