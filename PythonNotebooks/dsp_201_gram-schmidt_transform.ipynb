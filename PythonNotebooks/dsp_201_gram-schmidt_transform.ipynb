{
 "cells": [
  {
   "cell_type": "markdown",
   "metadata": {},
   "source": [
    "# Application 2.1. Example of Gram-Schmidt transform"
   ]
  },
  {
   "cell_type": "markdown",
   "metadata": {},
   "source": [
    "Importing libraries"
   ]
  },
  {
   "cell_type": "code",
   "execution_count": 46,
   "metadata": {},
   "outputs": [],
   "source": [
    "import numpy as np\n",
    "from ak_gram_schmidt import ak_gram_schmidt"
   ]
  },
  {
   "cell_type": "markdown",
   "metadata": {},
   "source": [
    "## Example of the Gram-Schmidt procedure"
   ]
  },
  {
   "cell_type": "markdown",
   "metadata": {},
   "source": [
    "As an example of the Gram-Schmidt procedure, assume that Listing A.4 is invoked with the commands"
   ]
  },
  {
   "cell_type": "code",
   "execution_count": 45,
   "metadata": {},
   "outputs": [
    {
     "name": "stdout",
     "output_type": "stream",
     "text": [
      "magErrorVector 1 =  2.8284271247461903\n",
      "magErrorVector 2 =  1.1853095282186634\n",
      "magErrorVector 3 =  1.4242875557001522\n",
      "X = [ 0.61773911 -1.23547822 -1.41421356 -0.53687549 -0.16595219]\n",
      "x1 = [-0.11651593 -2.23540058 -1.98838289 -0.56945711]\n"
     ]
    }
   ],
   "source": [
    "\n",
    "x = [[0, -1, -1, 0],\n",
    "     [0,  2,  2, 0],\n",
    "     [0,  1,  0, 1],\n",
    "     [1,  1,  1, 1],\n",
    "     [-1, 2 , 2, 1]] # row vectors\n",
    "\n",
    "x = np.array(x)\n",
    "[ Ah , A ] = ak_gram_schmidt( x ) # perform the orthonormalization procedure\n",
    "\n",
    "# print(f\"x ({np.shape(x)}) =\")\n",
    "# print(x)\n",
    "# print(f\"A ({np.shape(A)}) =\")\n",
    "# print(A)\n",
    "# print(f\"Ah ({np.shape(Ah)}) =\")\n",
    "# print(Ah)\n",
    "# print(f\"T ({np.shape(np.transpose(x[0,:]))}) =\")\n",
    "# print(np.transpose(x[0,:]))\n",
    "\n",
    "X = np.matmul(A, np.transpose(x[0,:]))  # coefficients corresponding to first vector\n",
    "x1 = np.matmul(Ah, X)  # reconstruction of first vector x (1 ,:) ( as a column vector )\n",
    "\n",
    "print(f\"X = {X}\")\n",
    "print(f\"x1 = {x1}\")\n"
   ]
  },
  {
   "cell_type": "markdown",
   "metadata": {},
   "source": [
    "where M=5 vectors and D=4 is the space dimension. In this case, the number of orthonormal basis functions is N=4, such that both matrices Ah and A have dimension 4x4. The basis functions correspond to the columns of matrix A. The first element of x1, corresponding to the first basis function, is the only non-zero element and has value $\\sqrt{2}$ which is the coefficient that must multiply the first basis function [0, -$\\sqrt{2}/2$, $\\sqrt{2}/2$, 0] to reconstruct the first vector [0, -1, 1, 0]. The reason is that ak_gram_schmidt chooses the first basis as a normalized (unit-norm) version of the first vector in x.\n",
    "\n",
    "Debugging the execution of the code ak_gram_schmidt, step-by-step, allows to observe more details"
   ]
  },
  {
   "cell_type": "code",
   "execution_count": 12,
   "metadata": {},
   "outputs": [],
   "source": [
    "tol = 1.1102e-015 # calculated ( default ) tolerance\n",
    "\n",
    "# first basis in y is [0 -0.7071 -0.7071 0] , numBasis =1\n",
    "k, m = 2, 1\n",
    "projectionOverBasis = np.array([0, 2.0, 2.0, 0]) # nd input vector\n",
    "errorVector = 1.0e-015 * np.array([0, 0.4441, 0.4441, 0])\n",
    "magErrorVector = 6.2804e-016 # do NOT add error vector to basis set\n",
    "# 2 nd vector is already represented , go to next iteration\n",
    "k, m = 3, 1\n",
    "projectionOverBasis = np.array([0, 0.5, 0.5, 0]) # 3 rd input vector\n",
    "# errorVector below is orthogonal to [0 -0.7071 -0.7071 0]\n",
    "errorVector = np.array([0, 0.5, -0.5, 1])\n",
    "magErrorVector = 1.2247 # add normalized error vector to basis set\n",
    "# second basis is [0 0.4082 -0.4082 0.8165] , numBasis =2\n",
    "k, m = 4, 1\n",
    "projectionOverBasis = np.array([0, 1.0, 1.0, 0]) # 4 th input vector\n",
    "errorVector = np.array([1.0, 0.0, 0.0, 1]) # using 1 st basis\n",
    "k, m = 4, 2\n",
    "projectionOverBasis = np.array([0.0, 0.3333, -0.3333, 0.6667])\n",
    "errorVector = np.array([1.0, -0.3333, 0.3333, 0.3333]) # using 2 basis vectors\n",
    "magErrorVector = 1.1547 # add normalized error vector to basis set\n",
    "# 3 rd basis is [0.8660 -0.2887 0.2887 0.2887] , numBasis =3\n",
    "k, m = 5, 1\n",
    "projectionOverBasis = np.array([0, 2.0, 2.0, 0]) # 5 th input vector\n",
    "errorVector = np.array([ -2.0, 0.0, 0.0, 1.0]) # using only 1 st basis\n",
    "k, m = 5, 2\n",
    "projectionOverBasis = np.array([ 0, 0.3333, -0.3333, 0.6667])\n",
    "errorVector = np.array([ -2.0, -0.3333, 0.3333, 0.3333]) # using 2 basis vectors\n",
    "k, m = 5, 3\n",
    "projectionOverBasis = np.array([ -1.250, 0.4167, -0.4167, -0.4167])\n",
    "errorVector = np.array([ -0.75, -0.75, 0.75, 0.75]) # using 3 basis vectors\n",
    "magErrorVector = 1.5000 # add normalized error vector to basis set\n",
    "# 4 th basis is [ -0.5 -0.5 0.5 0.5] , numBasis =4\n",
    "# abort because ( numBasis >= N )"
   ]
  }
 ],
 "metadata": {
  "kernelspec": {
   "display_name": "Python 3",
   "language": "python",
   "name": "python3"
  },
  "language_info": {
   "codemirror_mode": {
    "name": "ipython",
    "version": 3
   },
   "file_extension": ".py",
   "mimetype": "text/x-python",
   "name": "python",
   "nbconvert_exporter": "python",
   "pygments_lexer": "ipython3",
   "version": "3.8.10"
  }
 },
 "nbformat": 4,
 "nbformat_minor": 2
}
