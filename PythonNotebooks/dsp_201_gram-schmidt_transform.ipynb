{
 "cells": [
  {
   "cell_type": "markdown",
   "metadata": {},
   "source": [
    "# Application 2.1. Example of Gram-Schmidt transform"
   ]
  },
  {
   "cell_type": "code",
   "execution_count": 1,
   "metadata": {},
   "outputs": [],
   "source": [
    "import numpy as np\n",
    "from ak_gram_schmidt import ak_gram_schmidt"
   ]
  },
  {
   "cell_type": "code",
   "execution_count": 2,
   "metadata": {},
   "outputs": [
    {
     "name": "stdout",
     "output_type": "stream",
     "text": [
      "magErrorVector 1 =  2.8284271247461903\n",
      "magErrorVector 2 =  1.1853095282186634\n",
      "magErrorVector 3 =  1.4242875557001522\n"
     ]
    },
    {
     "ename": "ValueError",
     "evalue": "operands could not be broadcast together with shapes (4,5) (4,4) ",
     "output_type": "error",
     "traceback": [
      "\u001b[0;31m---------------------------------------------------------------------------\u001b[0m",
      "\u001b[0;31mValueError\u001b[0m                                Traceback (most recent call last)",
      "Cell \u001b[0;32mIn[2], line 8\u001b[0m\n\u001b[1;32m      1\u001b[0m x \u001b[38;5;241m=\u001b[39m [[\u001b[38;5;241m0\u001b[39m, \u001b[38;5;241m-\u001b[39m\u001b[38;5;241m1\u001b[39m, \u001b[38;5;241m-\u001b[39m\u001b[38;5;241m1\u001b[39m, \u001b[38;5;241m0\u001b[39m],\n\u001b[1;32m      2\u001b[0m      [\u001b[38;5;241m0\u001b[39m,  \u001b[38;5;241m2\u001b[39m,  \u001b[38;5;241m2\u001b[39m, \u001b[38;5;241m0\u001b[39m],\n\u001b[1;32m      3\u001b[0m      [\u001b[38;5;241m0\u001b[39m,  \u001b[38;5;241m1\u001b[39m,  \u001b[38;5;241m0\u001b[39m, \u001b[38;5;241m1\u001b[39m],\n\u001b[1;32m      4\u001b[0m      [\u001b[38;5;241m1\u001b[39m,  \u001b[38;5;241m1\u001b[39m,  \u001b[38;5;241m1\u001b[39m, \u001b[38;5;241m1\u001b[39m],\n\u001b[1;32m      5\u001b[0m      [\u001b[38;5;241m-\u001b[39m\u001b[38;5;241m1\u001b[39m, \u001b[38;5;241m2\u001b[39m , \u001b[38;5;241m2\u001b[39m, \u001b[38;5;241m1\u001b[39m]] \u001b[38;5;66;03m# row vectors\u001b[39;00m\n\u001b[1;32m      7\u001b[0m [ Ah , A ] \u001b[38;5;241m=\u001b[39m ak_gram_schmidt( x ) \u001b[38;5;66;03m# perform the orthonormalization procedure\u001b[39;00m\n\u001b[0;32m----> 8\u001b[0m X \u001b[38;5;241m=\u001b[39m \u001b[43mAh\u001b[49m\u001b[43m \u001b[49m\u001b[38;5;241;43m*\u001b[39;49m\u001b[43m \u001b[49m\u001b[43mnp\u001b[49m\u001b[38;5;241;43m.\u001b[39;49m\u001b[43mtranspose\u001b[49m\u001b[43m(\u001b[49m\u001b[43mx\u001b[49m\u001b[43m[\u001b[49m\u001b[38;5;241;43m1\u001b[39;49m\u001b[43m:\u001b[49m\u001b[43m]\u001b[49m\u001b[43m)\u001b[49m  \u001b[38;5;66;03m# coefficients corresponding to first vector\u001b[39;00m\n\u001b[1;32m      9\u001b[0m x1 \u001b[38;5;241m=\u001b[39m A \u001b[38;5;241m*\u001b[39m X  \u001b[38;5;66;03m# reconstruction of first vector x (1 ,:) ( as a column vector )    \u001b[39;00m\n",
      "\u001b[0;31mValueError\u001b[0m: operands could not be broadcast together with shapes (4,5) (4,4) "
     ]
    }
   ],
   "source": [
    "x = [[0, -1, -1, 0],\n",
    "     [0,  2,  2, 0],\n",
    "     [0,  1,  0, 1],\n",
    "     [1,  1,  1, 1],\n",
    "     [-1, 2 , 2, 1]] # row vectors\n",
    "\n",
    "[ Ah , A ] = ak_gram_schmidt( x ) # perform the orthonormalization procedure\n",
    "X = Ah * np.transpose(x[1:])  # coefficients corresponding to first vector\n",
    "x1 = A * X  # reconstruction of first vector x (1 ,:) ( as a column vector )    "
   ]
  },
  {
   "cell_type": "code",
   "execution_count": null,
   "metadata": {},
   "outputs": [],
   "source": [
    "tol = 1.1102e-015 # calculated ( default ) tolerance\n",
    "# first basis in y is [0 -0.7071 -0.7071 0] , numBasis =1\n",
    "k, m = 2, 1\n",
    "projectionOverBasis = [0, 2.0, 2.0, 0] # nd input vector\n",
    "errorVector = 1.0e-015 * [0, 0.4441, 0.4441, 0]\n",
    "magErrorVector = 6.2804e-016 # do NOT add error vector to basis set\n",
    "\n",
    "# 2 nd vector is already represented , go to next iteration\n",
    "k, m = 3, 1\n",
    "projectionOverBasis = [0, 0.5, 0.5, 0] # 3 rd input vector\n",
    "\n",
    "# errorVector below is orthogonal to [0 -0.7071 -0.7071 0]\n",
    "errorVector = [0, 0.5, -0.5, 1]\n",
    "magErrorVector = 1.2247 # add normalized error vector to basis set\n",
    "\n",
    "# second basis is [0 0.4082 -0.4082 0.8165] , numBasis =2\n",
    "k, m = 4, 1\n",
    "projectionOverBasis = [0, 1.0, 1.0, 0] # 4 th input vector\n",
    "errorVector = [1.0, 0.0, 0.0, 1] # using 1 st basis\n",
    "k, m = 4, 2\n",
    "projectionOverBasis = [0.0, 0.3333, -0.3333, 0.6667]\n",
    "errorVector = [1.0, -0.3333, 0.3333, 0.3333] # using 2 basis vectors\n",
    "magErrorVector = 1.1547 # add normalized error vector to basis set\n",
    "\n",
    "# 3 rd basis is [0.8660 -0.2887 0.2887 0.2887] , numBasis =3\n",
    "k, m = 5, 1\n",
    "projectionOverBasis = [0, 2.0, 2.0, 0] # 5 th input vector\n",
    "errorVector = [ -2.0 0.0 0.0 1.0] # using only 1 st basis\n",
    "k, m = 5, 2\n",
    "projectionOverBasis = [ 0, 0.3333, -0.3333, 0.6667]\n",
    "errorVector = [ -2.0, -0.3333, 0.3333, 0.3333] # using 2 basis vectors\n",
    "k, m = 5, 3\n",
    "projectionOverBasis = [ -1.250, 0.4167, -0.4167, -0.4167]\n",
    "errorVector = [ -0.75, -0.75, 0.75, 0.75] # using 3 basis vectors\n",
    "magErrorVector = 1.5000 # add normalized error vector to basis set\n",
    "# 4 th basis is [ -0.5 -0.5 0.5 0.5] , numBasis =4\n",
    "# abort because ( numBasis >= N )"
   ]
  }
 ],
 "metadata": {
  "kernelspec": {
   "display_name": "Python 3",
   "language": "python",
   "name": "python3"
  },
  "language_info": {
   "codemirror_mode": {
    "name": "ipython",
    "version": 3
   },
   "file_extension": ".py",
   "mimetype": "text/x-python",
   "name": "python",
   "nbconvert_exporter": "python",
   "pygments_lexer": "ipython3",
   "version": "3.8.10"
  }
 },
 "nbformat": 4,
 "nbformat_minor": 2
}
