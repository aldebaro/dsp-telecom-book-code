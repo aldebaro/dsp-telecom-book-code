{
 "cells": [
  {
   "cell_type": "markdown",
   "metadata": {},
   "source": [
    "# Application 2.1. Example of Gram-Schmidt transform"
   ]
  },
  {
   "cell_type": "code",
   "execution_count": 1,
   "metadata": {},
   "outputs": [],
   "source": [
    "import numpy as np\n"
   ]
  },
  {
   "cell_type": "code",
   "execution_count": null,
   "metadata": {},
   "outputs": [],
   "source": [
    "x = [[0, -1, -1, 0],\n",
    "     [0, 2,  2,  0],\n",
    "     [0, 1,  0,  1],\n",
    "     [1, 1,  1,  1],\n",
    "     [-1, 2 , 2,  1]] # row vectors\n",
    "\n",
    "[ Ah , A ] = ak_gram_schmidt ( x ) # perform the orthonormalization procedure\n",
    "X = Ah * np.transpose(x[1:])  # coefficients corresponding to first vector\n",
    "x1 = A * X  # reconstruction of first vector x (1 ,:) ( as a column vector )    "
   ]
  },
  {
   "cell_type": "code",
   "execution_count": null,
   "metadata": {},
   "outputs": [],
   "source": [
    "tol = 1.1102e-015 # calculated ( default ) tolerance\n",
    "# first basis in y is [0 -0.7071 -0.7071 0] , numBasis =1\n",
    "k, m = 2, 1\n",
    "projectionOverBasis = [0, 2.0, 2.0, 0] # nd input vector\n",
    "errorVector = 1.0e-015 * [0, 0.4441, 0.4441, 0]\n",
    "magErrorVector = 6.2804e-016 # do NOT add error vector to basis set\n",
    "\n",
    "# 2 nd vector is already represented , go to next iteration\n",
    "k, m = 3, 1\n",
    "projectionOverBasis = [0, 0.5, 0.5, 0] # 3 rd input vector\n",
    "\n",
    "# errorVector below is orthogonal to [0 -0.7071 -0.7071 0]\n",
    "errorVector = [0, 0.5, -0.5, 1]\n",
    "magErrorVector = 1.2247 # add normalized error vector to basis set\n",
    "\n",
    "# second basis is [0 0.4082 -0.4082 0.8165] , numBasis =2\n",
    "k, m = 4, 1\n",
    "projectionOverBasis = [0, 1.0, 1.0, 0] # 4 th input vector\n",
    "errorVector = [1.0, 0.0, 0.0, 1] # using 1 st basis\n",
    "k, m = 4, 2\n",
    "projectionOverBasis = [0.0, 0.3333, -0.3333, 0.6667]\n",
    "errorVector = [1.0, -0.3333, 0.3333, 0.3333] # using 2 basis vectors\n",
    "magErrorVector = 1.1547 # add normalized error vector to basis set\n",
    "\n",
    "# 3 rd basis is [0.8660 -0.2887 0.2887 0.2887] , numBasis =3\n",
    "k, m = 5, 1\n",
    "projectionOverBasis = [0, 2.0, 2.0, 0] # 5 th input vector\n",
    "errorVector = [ -2.0 0.0 0.0 1.0] # using only 1 st basis\n",
    "k, m = 5, 2\n",
    "projectionOverBasis = [ 0, 0.3333, -0.3333, 0.6667]\n",
    "errorVector = [ -2.0, -0.3333, 0.3333, 0.3333] # using 2 basis vectors\n",
    "k, m = 5, 3\n",
    "projectionOverBasis = [ -1.250, 0.4167, -0.4167, -0.4167]\n",
    "errorVector = [ -0.75, -0.75, 0.75, 0.75] # using 3 basis vectors\n",
    "magErrorVector = 1.5000 # add normalized error vector to basis set\n",
    "# 4 th basis is [ -0.5 -0.5 0.5 0.5] , numBasis =4\n",
    "# abort because ( numBasis >= N )"
   ]
  }
 ],
 "metadata": {
  "kernelspec": {
   "display_name": "Python 3",
   "language": "python",
   "name": "python3"
  },
  "language_info": {
   "codemirror_mode": {
    "name": "ipython",
    "version": 3
   },
   "file_extension": ".py",
   "mimetype": "text/x-python",
   "name": "python",
   "nbconvert_exporter": "python",
   "pygments_lexer": "ipython3",
   "version": "3.8.10"
  }
 },
 "nbformat": 4,
 "nbformat_minor": 2
}
