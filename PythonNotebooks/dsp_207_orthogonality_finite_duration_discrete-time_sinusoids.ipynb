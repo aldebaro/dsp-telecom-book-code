{
 "cells": [
  {
   "cell_type": "markdown",
   "metadata": {},
   "source": [
    "# Application 2.7. Orthogonality of finite duration discrete-time sinusoids"
   ]
  },
  {
   "cell_type": "code",
   "execution_count": 3,
   "metadata": {},
   "outputs": [],
   "source": [
    "import numpy as np\n",
    "import sympy as sp\n",
    "import fractions\n",
    "import math"
   ]
  },
  {
   "cell_type": "code",
   "execution_count": 2,
   "metadata": {},
   "outputs": [],
   "source": [
    "def lcm(a, b):\n",
    "    return abs(a * b) // math.gcd(a, b)\n"
   ]
  },
  {
   "cell_type": "code",
   "execution_count": 4,
   "metadata": {},
   "outputs": [
    {
     "name": "stdout",
     "output_type": "stream",
     "text": [
      "Minimum common period:  240\n",
      "Numbers below should be integers:\n",
      "54.0\n",
      "5.0\n"
     ]
    }
   ],
   "source": [
    "if 1: # choose between two options\n",
    "    f0 = 980   # frequency of first sinusoid (in telecom, of bit 0) \n",
    "    f1 = 1180   # frequency of 2nd sinusoid (in telecom, of bit 1) \n",
    "else: #another example\n",
    "    f0 = 1650 # 1st sinusoid \n",
    "    f1 = 1850 # 2nd sinusoid \n",
    "\n",
    "Fs=9600; #assumed sampling frequency \n",
    "sumSinusoidFrequency = f0+f1\n",
    "subractSinusoidFrequency = f1-f0\n",
    "#reduce numbers to rational forms\n",
    "\n",
    "fraction = fractions.Fraction.from_float(sumSinusoidFrequency/Fs).limit_denominator()\n",
    "m = fraction.numerator\n",
    "n = fraction.denominator\n",
    "fraction = fractions.Fraction.from_float(subractSinusoidFrequency/Fs).limit_denominator()\n",
    "p = fraction.numerator\n",
    "q = fraction.denominator\n",
    "\n",
    "Nmin = lcm(n,q) #find the least commom multiple \n",
    "print(\"Minimum common period: \", Nmin) \n",
    "T_duration = Nmin / Fs; #minimum number of samples in seconds \n",
    "#disp(['Maximum symbol rate: ' num2str(1/T_symbolDuration) ' bauds']) \n",
    "## Check if the product of the two sinusoids is really orthogonal \n",
    "Tsum = 1 / sumSinusoidFrequency\n",
    "Tsub = 1 / subractSinusoidFrequency\n",
    "print(\"Numbers below should be integers:\") \n",
    "print(T_duration/Tsum)\n",
    "print(T_duration/Tsub)\n",
    "\n",
    "Ts = 1/Fs #sampling interval\n",
    "t = np.arange(0, T_duration, Ts) #generate (discrete) time\n",
    "\n",
    "#use sin or cos with arbitrary phase \n",
    "b0 = np.transpose(np.sin(2*np.pi*f0*t+4))  #column vector \n",
    "b1 = np.transpose(np.sin(2*np.pi*f1*t))  #column vector \n",
    "normalizedInnerProduct = np.dot(b0, b1) / max(b0.shape) #inner product\n",
    "\n",
    "if (normalizedInnerProduct > 1e-13):\n",
    "    # error('not orthogonal! should not happen!'); \n",
    "    print(\"Not orthogonal! Should not happen!\")\n",
    "    \n"
   ]
  }
 ],
 "metadata": {
  "kernelspec": {
   "display_name": "Python 3",
   "language": "python",
   "name": "python3"
  },
  "language_info": {
   "codemirror_mode": {
    "name": "ipython",
    "version": 3
   },
   "file_extension": ".py",
   "mimetype": "text/x-python",
   "name": "python",
   "nbconvert_exporter": "python",
   "pygments_lexer": "ipython3",
   "version": "3.8.10"
  }
 },
 "nbformat": 4,
 "nbformat_minor": 2
}
