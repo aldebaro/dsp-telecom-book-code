{
  "cells": [
    {
      "cell_type": "markdown",
      "metadata": {
        "id": "EaclBLtgEohg"
      },
      "source": [
        "**Application 2.6. Orthogonality of continuous-time sinusoids over a given interval.`**\n",
        "\n",
        "---\n",
        "The following code proves the orthogonality between cosines with frequencies $f_1 =1650$ and $f_2 = 1850$ (same phase = $\\frac{\\pi}{2}$) such that $T_{sym}=0.01$, $m=4$ and $n=35$."
      ]
    },
    {
      "cell_type": "markdown",
      "source": [
        "# Python Code"
      ],
      "metadata": {
        "id": "h-ZBD2KLIW4g"
      }
    },
    {
      "cell_type": "markdown",
      "metadata": {
        "id": "8fM0uH2UEohk"
      },
      "source": [
        "Import the libraries."
      ]
    },
    {
      "cell_type": "code",
      "execution_count": null,
      "metadata": {
        "id": "r8BhNCn0Eohl"
      },
      "outputs": [],
      "source": [
        "import numpy as np\n",
        "import matplotlib.pyplot as plt"
      ]
    },
    {
      "cell_type": "markdown",
      "metadata": {
        "id": "EyjUhLpQEohm"
      },
      "source": [
        "Fuction that defines the sinusoids."
      ]
    },
    {
      "cell_type": "code",
      "execution_count": null,
      "metadata": {
        "id": "nFpTr8hNEohn"
      },
      "outputs": [],
      "source": [
        "def sinusoid(t, frequency, phase):\n",
        "    return np.cos(2 * np.pi * frequency * t + phase)"
      ]
    },
    {
      "cell_type": "markdown",
      "metadata": {
        "id": "Y00TXH3BEoho"
      },
      "source": [
        "Function that calculates the inner product between sinusoids."
      ]
    },
    {
      "cell_type": "code",
      "execution_count": null,
      "metadata": {
        "id": "nji31Rj6Eoho"
      },
      "outputs": [],
      "source": [
        "def compute_inner_product(interval_start, interval_end, frequency1, frequency2,phase):\n",
        "    resolution = 100000\n",
        "    t = np.linspace(interval_start, interval_end, resolution)\n",
        "    dt = t[1] - t[0]\n",
        "    sinusoid1 = sinusoid(t, frequency1, phase)\n",
        "    sinusoid2 = sinusoid(t, frequency2,phase)\n",
        "    inner_product = np.sum(sinusoid1 * sinusoid2) * dt\n",
        "    return inner_product"
      ]
    },
    {
      "cell_type": "markdown",
      "metadata": {
        "id": "fiplbvHyEohp"
      },
      "source": [
        "Checking orthogonality by taking a two-by-two combination."
      ]
    },
    {
      "cell_type": "code",
      "execution_count": null,
      "metadata": {
        "id": "Mi3vM9loEohp"
      },
      "outputs": [],
      "source": [
        "def prove_orthogonality(interval_start, interval_end, frequencies,phase):\n",
        "    for i in range(len(frequencies)):\n",
        "        for j in range(i+1, len(frequencies)):\n",
        "            frequency1 = frequencies[i]\n",
        "            frequency2 = frequencies[j]\n",
        "            inner_product = compute_inner_product(interval_start, interval_end, frequency1, frequency2,phase)\n",
        "            print(f\"Inner product of sinusoids {frequency1}Hz and {frequency2}Hz: {inner_product}\")\n",
        "            if np.isclose(inner_product, 0):\n",
        "                print(\"Sinusoids are orthogonal.\")\n",
        "            else:\n",
        "                print(\"Sinusoids are not orthogonal.\")"
      ]
    },
    {
      "cell_type": "markdown",
      "metadata": {
        "id": "nCW9xUE9Eohr"
      },
      "source": [
        "Main Code: Defining the sinusoids and the interval."
      ]
    },
    {
      "cell_type": "code",
      "execution_count": null,
      "metadata": {
        "id": "AMAF5N8qEohr"
      },
      "outputs": [],
      "source": [
        "# Define the interval\n",
        "interval_start = 0\n",
        "interval_end = 0.01  # for example, over the interval [0, 1]\n",
        "\n",
        "# Define frequencies of sinusoids\n",
        "frequencies = [1650, 1850]  # Example frequencies in Hz\n",
        "phase = np.pi/2\n",
        "# Prove orthogonality\n",
        "prove_orthogonality(interval_start, interval_end, frequencies, phase)\n"
      ]
    }
  ],
  "metadata": {
    "language_info": {
      "name": "python"
    },
    "colab": {
      "provenance": []
    },
    "kernelspec": {
      "name": "python3",
      "display_name": "Python 3"
    }
  },
  "nbformat": 4,
  "nbformat_minor": 0
}