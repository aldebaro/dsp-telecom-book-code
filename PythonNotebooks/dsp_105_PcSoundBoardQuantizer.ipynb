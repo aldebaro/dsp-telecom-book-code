{
 "cells": [
  {
   "cell_type": "markdown",
   "metadata": {},
   "source": [
    "<div style=\"display: flex; align-items: center;\">\n",
    "    <a href=\"https://colab.research.google.com/github/aldebaro/dsp-telecom-book-code/blob/master/PythonNotebooks/dsp_105_PcSoundBoardQuantizer.ipynb\" target=\"_parent\">\n",
    "        <img src=\"https://colab.research.google.com/assets/colab-badge.svg\" alt=\"Open In Colab\" style=\"height: 25px; margin-right: 10px;\"/>\n",
    "    </a>\n",
    "    <a href='https://ai6g.org/books/dsp/Applications.html#textcolor805' target=\"_blank\">\n",
    "        <img alt='BookStack' src='https://img.shields.io/badge/Open_in _DSP_Book-100000?style=flat&logo=BookStack&logoColor=white&labelColor=696662&color=2095C0' style=\"height: 25px;\"/>\n",
    "    </a>\n",
    "</div>\n"
   ]
  },
  {
   "cell_type": "markdown",
   "metadata": {},
   "source": [
    "# Application 1.5: PC Sound Board Quantizer\n",
    "\n",
    "Given a system with an ADC, typically one has to know beforehand or conduct measurements to obtain the quantizer step size ∆. This is the case when using a personal computer (PC) sound board. For a sound board, the value of ∆ depends on whether the signal was acquired using the microphone input or the line-in input of the sound board. The microphone interface is designed for signals with a peak value of Xmax = 10 to 100 mV, while the peak for the line-in is typically 0.2 to 2 V. Note that the voltage ranges of line inputs and microphones vary from card to card. For the sake of this discussion, one can assume a dynamic range of [−100, 100] mV and an ADC of 8 bits per sample, such that ∆ ≈ 0.78 mV.\n",
    "\n",
    "The following example illustrates how to approximately recover the analog signal for visualization purposes. Assume the digital dynamic range is [0, 255], and the digital samples are D = [13, 126, 3, 34, 254]. If one simply uses `stem(D)`, there is no information about time and amplitude.\n"
   ]
  },
  {
   "cell_type": "code",
   "execution_count": 1,
   "metadata": {},
   "outputs": [
    {
     "data": {
      "image/png": "[encoded data removed]",
      "text/plain": [
       "<Figure size 640x480 with 1 Axes>"
      ]
     },
     "metadata": {},
     "output_type": "display_data"
    }
   ],
   "source": [
    "import numpy as np\n",
    "import matplotlib.pyplot as plt\n",
    "\n",
    "D = np.array([13, 126, 3, 34, 254])  # Signal as 8-bit unsigned [0, 255]\n",
    "n = np.arange(5)  # Sampling instants in the digital domain\n",
    "Fs = 8000  # Sampling frequency\n",
    "delta = 0.78e-3  # Step size in Volts\n",
    "\n",
    "A = (D - 128) * delta  # Subtract offset and normalize by delta\n",
    "Ts = 1 / Fs  # Sampling interval in seconds\n",
    "time = n * Ts  # Normalize the x-axis (time)\n",
    "plt.stem(time, A)  # Signal plot\n",
    "plt.xlabel('time (s)')\n",
    "plt.ylabel('amplitude (V)')\n",
    "plt.show()\n"
   ]
  },
  {
   "cell_type": "markdown",
   "metadata": {},
   "source": [
    "This plot demonstrates the necessary transformations to visualize the x-axis in seconds and the y-axis in Volts. The signal has been adjusted to achieve this representation. In this case, the normalized values for the signal are A = 1000 * [-89.70, -1.56, -97.50, -73.32, 98.28]. The x-axis represents time in seconds, and the y-axis represents amplitude in Volts, allowing for a clear visualization of the signal's behavior."
   ]
  },
  {
   "cell_type": "markdown",
   "metadata": {},
   "source": [
    "Now assume a PC computer with a sound board that uses a 16-bit ADC and supports at its input a dynamic range of −185 to 185 mV. The quantization step should be ∆ ≈ 5.6 µV. It is assumed here that ∆ = 5.6 µV, and the quantizer is uniform from −215 ∆ to (215 − 1)∆. In this case, there are M = 65,536 = 216 levels organized as 32,767 positive levels, 32,768 negative levels, and one level representing zero. The assumed coding scheme is the offset code of the table below, with 32,768 as the offset. Hence, the smallest value −215 ∆ is mapped to the 16-bit codeword \"0000 0000 0000 0000,\" (−215 + 1)∆ to \"0000 0000 0000 0001,\" and so on, with (215 − 1)∆ being coded as \"1111 1111 1111 1111.\"\n",
    "\n",
    "If at a specific time t0 the ADC input is x(t0) = x = 0.003 V, the ADC output is xi = 536, which corresponds to xq = 0.0030016 V and leads to a quantization error e ≈ -1.6 × 10⁻⁶ V."
   ]
  },
  {
   "cell_type": "markdown",
   "metadata": {},
   "source": [
    "$$\n",
    "\\begin{array}{ccccccc}\n",
    "\\text{Binary number} & \\text{Unsigned integer} & \\text{Two's complement} & \\text{Offset} & \\text{Sign and magnitude} & \\text{Gray code} \\\\\n",
    "000 & 0 & 0 & -4 & 0 & 0 & 32,764 \\\\\n",
    "001 & 1 & 1 & -3 & 1 & 1 & 32,765 \\\\\n",
    "010 & 2 & 2 & -2 & 2 & 3 & 32,766 \\\\\n",
    "011 & 3 & 3 & -1 & 3 & 2 & 32,767 \\\\\n",
    "100 & 4 & -4 & 0 & \\text{``$-0$''} & 7 & 32,768 \\\\\n",
    "101 & 5 & -3 & 1 & -1 & 6 & 32,769 \\\\\n",
    "110 & 6 & -2 & 2 & -2 & 4 & 32,770 \\\\\n",
    "111 & 7 & -1 & 3 & -3 & 5 & 32,771 \\\\\n",
    "\\end{array}\n",
    "$$\n"
   ]
  },
  {
   "cell_type": "code",
   "execution_count": 2,
   "metadata": {},
   "outputs": [
    {
     "name": "stdout",
     "output_type": "stream",
     "text": [
      "Quantized value (xq): 0.0030015999999999997\n",
      "Quantization index (xi): 536\n",
      "Quantization error (error): -1.5999999999996052e-06\n"
     ]
    }
   ],
   "source": [
    "import math\n",
    "\n",
    "def ak_quantizer(x, delta, b):\n",
    "    xq = delta * round(x / delta)\n",
    "    xi = round(x / delta)\n",
    "    error = x - xq\n",
    "    return xq, xi, error\n",
    "\n",
    "x = 0.003\n",
    "delta = 5.6e-6\n",
    "b = 16\n",
    "\n",
    "xq, xi, error = ak_quantizer(x, delta, b)\n",
    "\n",
    "# Display the results\n",
    "print(\"Quantized value (xq):\", xq)\n",
    "print(\"Quantization index (xi):\", xi)\n",
    "print(\"Quantization error (error):\", error)\n"
   ]
  },
  {
   "cell_type": "markdown",
   "metadata": {},
   "source": [
    "In the code cells above, we've implemented a quantization example using Python to demonstrate the quantization process for a 16-bit ADC with a given quantization step size (∆)."
   ]
  }
 ],
 "metadata": {
  "kernelspec": {
   "display_name": "Python 3",
   "language": "python",
   "name": "python3"
  },
  "language_info": {
   "codemirror_mode": {
    "name": "ipython",
    "version": 3
   },
   "file_extension": ".py",
   "mimetype": "text/x-python",
   "name": "python",
   "nbconvert_exporter": "python",
   "pygments_lexer": "ipython3",
   "version": "3.10.12"
  }
 },
 "nbformat": 4,
 "nbformat_minor": 2
}
